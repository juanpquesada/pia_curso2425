{
  "nbformat": 4,
  "nbformat_minor": 0,
  "metadata": {
    "colab": {
      "provenance": []
    },
    "kernelspec": {
      "name": "python3",
      "display_name": "Python 3"
    },
    "language_info": {
      "name": "python"
    }
  },
  "cells": [
    {
      "cell_type": "markdown",
      "source": [
        "# Juan Pablo Quesada Nieves"
      ],
      "metadata": {
        "id": "c6F5TvYujcNM"
      }
    },
    {
      "cell_type": "markdown",
      "source": [
        "En una nueva celda de código, crea la lista de nombre **tenistas** con los siguientes elementos: **Novak Djokovic**, **Rafael Nadal**, **Roger Federer**, **Pete Sampras**, **Roy Emerson**. Imprime por pantalla la lista."
      ],
      "metadata": {
        "id": "TSVKLFZnlGGn"
      }
    },
    {
      "cell_type": "code",
      "source": [
        "tenistas = ['Novak Djokovic', 'Rafael Nadal', 'Roger Federer', 'Pete Sampras', 'Roy Emerson']\n",
        "print(tenistas)"
      ],
      "metadata": {
        "colab": {
          "base_uri": "https://localhost:8080/"
        },
        "id": "qg8hEpmkjiDC",
        "outputId": "8e3aaff4-f95e-4481-aff0-aa9f7d2029f0"
      },
      "execution_count": 1,
      "outputs": [
        {
          "output_type": "stream",
          "name": "stdout",
          "text": [
            "['Novak Djokovic', 'Rafael Nadal', 'Roger Federer', 'Pete Sampras', 'Roy Emerson']\n"
          ]
        }
      ]
    },
    {
      "cell_type": "markdown",
      "source": [
        "En una nueva celda de código, crea la lista de nombre **grand_slams** con los siguientes elementos: **24**, **22**, **20**, **14**, **12**. Imprime por pantalla la lista."
      ],
      "metadata": {
        "id": "DVZurQsilSkX"
      }
    },
    {
      "cell_type": "code",
      "source": [
        "grand_slams = [24, 22, 20, 14, 12]\n",
        "print(grand_slams)"
      ],
      "metadata": {
        "colab": {
          "base_uri": "https://localhost:8080/"
        },
        "id": "ksxbUaMLjyxj",
        "outputId": "dad09e9d-3a5b-4692-913a-0a9b497b40bc"
      },
      "execution_count": 2,
      "outputs": [
        {
          "output_type": "stream",
          "name": "stdout",
          "text": [
            "[24, 22, 20, 14, 12]\n"
          ]
        }
      ]
    },
    {
      "cell_type": "markdown",
      "source": [
        "En una nueva celda de código, crea un diccionario de nombre **dic** donde la clave de cada elemento sea el nombre de un tenista y su valor el número de Grand Slams ganados. Imprime por pantalla el diccionario."
      ],
      "metadata": {
        "id": "bbcDKcYDlbJW"
      }
    },
    {
      "cell_type": "code",
      "source": [
        "dic = dict(zip(tenistas, grand_slams))\n",
        "print(dic)"
      ],
      "metadata": {
        "colab": {
          "base_uri": "https://localhost:8080/"
        },
        "id": "tc-mN22yj712",
        "outputId": "b7747c85-0bf2-4d06-fe84-aecf7d585290"
      },
      "execution_count": 3,
      "outputs": [
        {
          "output_type": "stream",
          "name": "stdout",
          "text": [
            "{'Novak Djokovic': 24, 'Rafael Nadal': 22, 'Roger Federer': 20, 'Pete Sampras': 14, 'Roy Emerson': 12}\n"
          ]
        }
      ]
    },
    {
      "cell_type": "markdown",
      "source": [
        "En una nueva celda de código, escribe las sentencias Python necesarias para mostrar los datos del diccionario dic en la forma **Nombre del jugador: X Grand Slams ganados**. El resultado debería ser como sigue:\n",
        "\n",
        "Novak Djokovic: 24 Grand Slams ganados.\n",
        "\n",
        "Rafael Nadal: 22 Grand Slams ganados.\n",
        "\n",
        "…"
      ],
      "metadata": {
        "id": "_vaMHsDtlfpb"
      }
    },
    {
      "cell_type": "code",
      "source": [
        "for key, value in dic.items():\n",
        "  print(f\"{key}: {value} Grand Slams ganados.\")"
      ],
      "metadata": {
        "colab": {
          "base_uri": "https://localhost:8080/"
        },
        "id": "FpSLQekSkqeg",
        "outputId": "bfc653ab-dca0-40f2-aa49-5db2a8ce847d"
      },
      "execution_count": 4,
      "outputs": [
        {
          "output_type": "stream",
          "name": "stdout",
          "text": [
            "Novak Djokovic: 24 Grand Slams ganados.\n",
            "Rafael Nadal: 22 Grand Slams ganados.\n",
            "Roger Federer: 20 Grand Slams ganados.\n",
            "Pete Sampras: 14 Grand Slams ganados.\n",
            "Roy Emerson: 12 Grand Slams ganados.\n"
          ]
        }
      ]
    }
  ]
}